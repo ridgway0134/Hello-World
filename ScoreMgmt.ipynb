{
 "cells": [
  {
   "cell_type": "code",
   "execution_count": 37,
   "id": "3e386dda",
   "metadata": {},
   "outputs": [
    {
     "name": "stdout",
     "output_type": "stream",
     "text": [
      "Before change, value = 5\n",
      "After change, value = 5000\n"
     ]
    }
   ],
   "source": [
    "def modify(value):\n",
    "    print(f'Before change, value = {value}')\n",
    "    value *= 1000\n",
    "    print(f'After change, value = {value}')\n",
    "\n",
    "modify(5)\n"
   ]
  },
  {
   "cell_type": "code",
   "execution_count": 38,
   "id": "2157febe",
   "metadata": {},
   "outputs": [
    {
     "name": "stdout",
     "output_type": "stream",
     "text": [
      "Before change, value = ['Hello']\n",
      "After change, value = ['Hello', 'World']\n",
      "origin = ['Hello']\n"
     ]
    }
   ],
   "source": [
    "def modify_immutable(value):\n",
    "    print(f'Before change, value = {value}')\n",
    "    new_value = value + ['World']\n",
    "    print(f'After change, value = {new_value}')\n",
    "    return new_value\n",
    "\n",
    "origin = ['Hello']\n",
    "modified = modify_immutable(origin)\n",
    "print(f'origin = {origin}')\n"
   ]
  },
  {
   "cell_type": "code",
   "execution_count": 39,
   "id": "e3850172",
   "metadata": {},
   "outputs": [],
   "source": [
    "def modify_mutable(value):\n",
    "    print(f'Before change value = {value}')\n",
    "    value[0] = 10000\n",
    "    print(f'After change value = {value}')"
   ]
  },
  {
   "cell_type": "code",
   "execution_count": 40,
   "id": "86c47ce5",
   "metadata": {},
   "outputs": [
    {
     "name": "stdout",
     "output_type": "stream",
     "text": [
      "Before change value = [1, 2, 3, 4, 5]\n",
      "After change value = [10000, 2, 3, 4, 5]\n",
      "origin = [10000, 2, 3, 4, 5]\n"
     ]
    }
   ],
   "source": [
    "origin = [1,2,3,4,5]\n",
    "modify_mutable(origin)\n",
    "print(f'origin = {origin}')"
   ]
  },
  {
   "cell_type": "code",
   "execution_count": null,
   "id": "2b881116",
   "metadata": {},
   "outputs": [],
   "source": []
  },
  {
   "cell_type": "code",
   "execution_count": null,
   "id": "502119d2",
   "metadata": {},
   "outputs": [],
   "source": [
    "def student_calc(student):\n",
    "    tot = student['kor'] + student['eng'] + student['math']\n",
    "    avg = tot / 3\n",
    "    if 90 <= avg <= 100:\n",
    "        grade = 'A'\n",
    "    elif 80 <= avg < 90:\n",
    "        grade = 'B'\n",
    "    elif 70 <= avg < 80:\n",
    "        grade = 'C'\n",
    "    elif 60 <= avg < 70:\n",
    "        grade = 'D'\n",
    "    else:\n",
    "        grade = 'F'\n",
    "    student['tot'] = tot\n",
    "    student['avg'] = avg\n",
    "    student['grade'] = grade\n",
    "\n",
    "def student_input(student):\n",
    "    irum = input('Name: ')\n",
    "    kor = int(input('Korean: '))\n",
    "    eng = int(input('English: '))\n",
    "    math = int(input('Math: '))\n",
    "    student['irum'] = irum\n",
    "    student['kor'] = kor\n",
    "    student['eng'] = eng\n",
    "    student['math'] = math\n",
    "\n",
    "def student_output():\n",
    "    print('***AWS High School***')\n",
    "    print('irum     kor    eng    math    tot    avg    grade')\n",
    "    print(f\"{student['irum']}\\t{student['kor']}\\t{student['eng']}\\t{student['math']}\\t{student['tot']}\\t{student['avg']:.2f}\\t{student['grade']}\")\n",
    "\n",
    "student = {}\n",
    "student_input(student)\n",
    "student_calc(student)\n",
    "student_output()\n"
   ]
  },
  {
   "cell_type": "code",
   "execution_count": null,
   "id": "0ead4d6c",
   "metadata": {},
   "outputs": [],
   "source": []
  }
 ],
 "metadata": {
  "kernelspec": {
   "display_name": "Python 3 (ipykernel)",
   "language": "python",
   "name": "python3"
  },
  "language_info": {
   "codemirror_mode": {
    "name": "ipython",
    "version": 3
   },
   "file_extension": ".py",
   "mimetype": "text/x-python",
   "name": "python",
   "nbconvert_exporter": "python",
   "pygments_lexer": "ipython3",
   "version": "3.11.4"
  }
 },
 "nbformat": 4,
 "nbformat_minor": 5
}
